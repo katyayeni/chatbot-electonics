{
  "nbformat": 4,
  "nbformat_minor": 0,
  "metadata": {
    "colab": {
      "provenance": []
    },
    "kernelspec": {
      "name": "python3",
      "display_name": "Python 3"
    },
    "language_info": {
      "name": "python"
    }
  },
  "cells": [
    {
      "cell_type": "code",
      "execution_count": 6,
      "metadata": {
        "id": "mYnNHctKacJy"
      },
      "outputs": [],
      "source": [
        "!pip install faiss-cpu transformers sentence-transformers gradio --quiet\n",
        "\n"
      ]
    },
    {
      "cell_type": "code",
      "source": [
        "import gradio as gr\n",
        "import faiss\n",
        "import numpy as np\n",
        "from sentence_transformers import SentenceTransformer\n",
        "from transformers import GPT2LMHeadModel, GPT2Tokenizer\n",
        "import torch\n",
        "\n",
        "\n",
        "faqs = [\n",
        "    {\"question\": \"What are the specs of your latest smartphones?\",\n",
        "     \"answer\": \"Our latest smartphones feature 6.7-inch OLED displays, 12GB RAM, 5000mAh batteries, and 108MP cameras.\"},\n",
        "\n",
        "    {\"question\": \"Tell me about the latest laptops you have.\",\n",
        "     \"answer\": \"Our newest laptops have Intel i7 processors, 16GB RAM, 512GB SSD, and 15.6-inch full HD screens.\"},\n",
        "\n",
        "    {\"question\": \"How can I track my order?\",\n",
        "     \"answer\": \"You can track your order using the tracking link sent to your email or on your order history page.\"},\n",
        "\n",
        "    {\"question\": \"What is your return policy?\",\n",
        "     \"answer\": \"You can return any product within 30 days if it is in original condition.\"},\n",
        "\n",
        "    {\"question\": \"Which payment methods do you accept?\",\n",
        "     \"answer\": \"We accept credit cards, debit cards, PayPal, and UPI payments.\"},\n",
        "\n",
        "    {\"question\": \"Do your products come with a warranty?\",\n",
        "     \"answer\": \"Yes, all our products come with at least a 1-year warranty.\"},\n",
        "\n",
        "\n",
        "    {\"question\": \"Can I return a faulty phone?\",\n",
        "     \"answer\": \"Yes, faulty products can be returned within 30 days as per our return policy.\"},\n",
        "\n",
        "    {\"question\": \"What payment options are available for online shopping?\",\n",
        "     \"answer\": \"Online payments can be made via credit/debit cards, PayPal, and UPI.\"},\n",
        "\n",
        "    {\"question\": \"Is there a warranty on laptops?\",\n",
        "     \"answer\": \"All laptops come with a standard 1-year manufacturer warranty.\"},\n",
        "\n",
        "    {\"question\": \"How to check my order status?\",\n",
        "     \"answer\": \"You can check your order status by logging into your account and visiting the order history page.\"}\n",
        "]\n",
        "\n",
        "texts = [f\"Q: {item['question']}\\nA: {item['answer']}\" for item in faqs]\n",
        "\n",
        "\n",
        "embed_model = SentenceTransformer('all-MiniLM-L6-v2')\n",
        "embeddings = embed_model.encode(texts, convert_to_numpy=True)\n",
        "\n",
        "# Setup FAISS index\n",
        "dimension = embeddings.shape[1]\n",
        "index = faiss.IndexFlatL2(dimension)\n",
        "index.add(embeddings)\n",
        "\n",
        "# Load GPT-2 for generation\n",
        "tokenizer = GPT2Tokenizer.from_pretrained(\"gpt2\")\n",
        "model = GPT2LMHeadModel.from_pretrained(\"gpt2\")\n",
        "model.eval()\n",
        "\n",
        "# Device setup for faster inference if CUDA available\n",
        "device = torch.device('cuda' if torch.cuda.is_available() else 'cpu')\n",
        "model.to(device)\n",
        "\n",
        "def retrieve_similar(query, k=3):\n",
        "    q_emb = embed_model.encode([query], convert_to_numpy=True)\n",
        "    distances, indices = index.search(q_emb, k)\n",
        "    return [texts[i] for i in indices[0]]\n",
        "\n",
        "def generate_answer(context, query, max_length=150):\n",
        "    prompt = f\"Context:\\n{context}\\n\\nQuestion: {query}\\nAnswer:\"\n",
        "    inputs = tokenizer.encode(prompt, return_tensors=\"pt\").to(device)\n",
        "    outputs = model.generate(\n",
        "        inputs,\n",
        "        max_length=max_length,\n",
        "        do_sample=True,\n",
        "        temperature=0.7,\n",
        "        top_p=0.9,\n",
        "        eos_token_id=tokenizer.eos_token_id,\n",
        "        pad_token_id=tokenizer.eos_token_id,\n",
        "    )\n",
        "    answer = tokenizer.decode(outputs[0], skip_special_tokens=True)\n",
        "    return answer[len(prompt):].strip()\n",
        "\n",
        "def chat(query):\n",
        "    context = \"\\n\".join(retrieve_similar(query))\n",
        "    answer = generate_answer(context, query)\n",
        "    return answer\n",
        "\n",
        "# Gradio UI\n",
        "iface = gr.Interface(\n",
        "    fn=chat,\n",
        "    inputs=gr.Textbox(lines=2, placeholder=\"Ask anything about products, orders, policies...\"),\n",
        "    outputs=\"text\",\n",
        "    title=\"Electronics Store Support Chatbot\",\n",
        "    description=\"Ask questions about smartphones, laptops, orders, returns, payments, warranty, and more.\"\n",
        ")\n",
        "\n",
        "iface.launch()\n"
      ],
      "metadata": {
        "colab": {
          "base_uri": "https://localhost:8080/",
          "height": 649
        },
        "id": "jCweWtdBasY9",
        "outputId": "db66e65e-adfa-4060-875b-a28e848d2280"
      },
      "execution_count": 7,
      "outputs": [
        {
          "output_type": "stream",
          "name": "stdout",
          "text": [
            "It looks like you are running Gradio on a hosted a Jupyter notebook. For the Gradio app to work, sharing must be enabled. Automatically setting `share=True` (you can turn this off by setting `share=False` in `launch()` explicitly).\n",
            "\n",
            "Colab notebook detected. To show errors in colab notebook, set debug=True in launch()\n",
            "* Running on public URL: https://012cb4edad1e0fe461.gradio.live\n",
            "\n",
            "This share link expires in 1 week. For free permanent hosting and GPU upgrades, run `gradio deploy` from the terminal in the working directory to deploy to Hugging Face Spaces (https://huggingface.co/spaces)\n"
          ]
        },
        {
          "output_type": "display_data",
          "data": {
            "text/plain": [
              "<IPython.core.display.HTML object>"
            ],
            "text/html": [
              "<div><iframe src=\"https://012cb4edad1e0fe461.gradio.live\" width=\"100%\" height=\"500\" allow=\"autoplay; camera; microphone; clipboard-read; clipboard-write;\" frameborder=\"0\" allowfullscreen></iframe></div>"
            ]
          },
          "metadata": {}
        },
        {
          "output_type": "execute_result",
          "data": {
            "text/plain": []
          },
          "metadata": {},
          "execution_count": 7
        }
      ]
    }
  ]
}